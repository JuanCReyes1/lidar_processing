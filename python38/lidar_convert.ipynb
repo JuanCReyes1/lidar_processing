{
 "cells": [
  {
   "cell_type": "code",
   "execution_count": 1,
   "metadata": {},
   "outputs": [
    {
     "ename": "NameError",
     "evalue": "name 'load_laspy' is not defined",
     "output_type": "error",
     "traceback": [
      "\u001b[0;31m---------------------------------------------------------------------------\u001b[0m",
      "\u001b[0;31mNameError\u001b[0m                                 Traceback (most recent call last)",
      "Cell \u001b[0;32mIn[1], line 7\u001b[0m\n\u001b[1;32m      3\u001b[0m \u001b[39mimport\u001b[39;00m \u001b[39mpyproj\u001b[39;00m\n\u001b[1;32m      5\u001b[0m crs \u001b[39m=\u001b[39m pyproj\u001b[39m.\u001b[39mCRS\u001b[39m.\u001b[39mfrom_epsg(\u001b[39m4269\u001b[39m)  \u001b[39m# example: WGS84\u001b[39;00m\n\u001b[0;32m----> 7\u001b[0m input_las \u001b[39m=\u001b[39m load_laspy(\u001b[39m'\u001b[39m\u001b[39mTile65_Original_Clean_Macro.las\u001b[39m\u001b[39m'\u001b[39m)\n\u001b[1;32m      8\u001b[0m header \u001b[39m=\u001b[39m laspy\u001b[39m.\u001b[39mLasHeader(point_format\u001b[39m=\u001b[39minput_las\u001b[39m.\u001b[39mheader\u001b[39m.\u001b[39mpoint_format, version\u001b[39m=\u001b[39minput_las\u001b[39m.\u001b[39mheader\u001b[39m.\u001b[39mversion)\n\u001b[1;32m      9\u001b[0m header\u001b[39m.\u001b[39mscales \u001b[39m=\u001b[39m np\u001b[39m.\u001b[39marray([\u001b[39m0.1\u001b[39m, \u001b[39m0.1\u001b[39m, \u001b[39m0.1\u001b[39m])\n",
      "\u001b[0;31mNameError\u001b[0m: name 'load_laspy' is not defined"
     ]
    }
   ],
   "source": [
    "#Requires python = 3.7\n",
    "\n",
    "import laspy\n",
    "import numpy as np\n",
    "import pyproj\n",
    "\n",
    "crs = pyproj.CRS.from_epsg(4269)  # example: WGS84\n",
    "\n",
    "\n",
    "#Used to load .las data into a laspy object.\n",
    "def load_laspy(las_location):\n",
    "      input_las = laspy.read(las_location)\n",
    "      \n",
    "      return input_las\n",
    "\n",
    "\n",
    "#Load .LAS file using the load_laspy function.\n",
    "input_las = load_laspy('Tile65_Original_Clean_Macro.las')\n",
    "\n",
    "#Create a header for the new .Las file\n",
    "# Header class properties (https://laspy.readthedocs.io/en/latest/api/laspy.header.html)\n",
    "header = laspy.LasHeader(point_format=input_las.header.point_format, version=input_las.header.version)\n",
    "header.scales = np.array([0.1, 0.1, 0.1])\n",
    "\n",
    "#Create a laspy object to retrieve attributes from our original input las.\n",
    "classified_points = laspy.LasData(header)\n",
    "# Select attributes from input data\n",
    "classified_points.x = input_las.x\n",
    "classified_points.y = input_las.y\n",
    "classified_points.z = input_las.z\n",
    "classified_points.classification = input_las.classification\n",
    "classified_points.intensity = input_las.intensity\n",
    "\n",
    "#Apply the add_crs function to add a crs to our header.\n",
    "classified_points.header.add_crs(crs)\n",
    "#Select the offset from the input las data.\n",
    "classified_points.header.offsets = input_las.header.offsets\n",
    "\n",
    "#Export to a new .LAS file\n",
    "classified_points.write(\"converted_tile65.las\")"
   ]
  },
  {
   "cell_type": "code",
   "execution_count": null,
   "metadata": {},
   "outputs": [],
   "source": []
  }
 ],
 "metadata": {
  "kernelspec": {
   "display_name": "py38lidar",
   "language": "python",
   "name": "python3"
  },
  "language_info": {
   "codemirror_mode": {
    "name": "ipython",
    "version": 3
   },
   "file_extension": ".py",
   "mimetype": "text/x-python",
   "name": "python",
   "nbconvert_exporter": "python",
   "pygments_lexer": "ipython3",
   "version": "3.8.16"
  },
  "orig_nbformat": 4,
  "vscode": {
   "interpreter": {
    "hash": "a54151f323acc967be8fb68143945cc7bc10aeedb5b402dbd6b8360bccb746dd"
   }
  }
 },
 "nbformat": 4,
 "nbformat_minor": 2
}
