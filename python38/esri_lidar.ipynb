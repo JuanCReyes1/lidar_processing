{
 "cells": [
  {
   "attachments": {},
   "cell_type": "markdown",
   "metadata": {},
   "source": [
    "# Geospatial Workflow for Supervised Classification of LiDAR Point Cloud Data with PointCNN using in Python and ArcGIS Pro\n",
    "\n",
    "## By Juan C. Reyes\n",
    "## For: Dr. Tim Webster and The Applied Geomatics Research Group (AGRG)\n",
    "## In Fulfilment of the  MSc. Applied Geomatics program at Acadia University.\n",
    "\n",
    "## Table of Contents\n",
    "1. Data Cleaning with Pandas and Numpy Python libraries.\n",
    "2. Visualization with Open3D, PPTK, Cloud Compare, and ArcGIS Pro.\n",
    "3. Training & Validation Data Generation for use with Machine Learning Algorithms.\n",
    "4. Unsupervised Classification\n",
    "4.1.1 DBSCAN Algorithm\n",
    "5. Supervised Classification (Machine Learning)\n",
    "5.1.1 PointCNN"
   ]
  },
  {
   "attachments": {},
   "cell_type": "markdown",
   "metadata": {},
   "source": [
    "# 0. Importing Necessary Python libraries"
   ]
  },
  {
   "attachments": {},
   "cell_type": "markdown",
   "metadata": {},
   "source": [
    "We begin by importing the necessary Python libraries for this analysis.\n",
    "Use of this workflow and dependant libraries is designed to work with Python = 3.7."
   ]
  },
  {
   "cell_type": "code",
   "execution_count": 73,
   "metadata": {},
   "outputs": [],
   "source": [
    "import open3d as o3d\n",
    "import laspy\n",
    "import numpy as np\n",
    "import pandas as pd\n",
    "import matplotlib.pyplot as plt\n"
   ]
  },
  {
   "attachments": {},
   "cell_type": "markdown",
   "metadata": {},
   "source": [
    "# 0.1 Workbook Function Definitions\n",
    "\n",
    "In this section we define recurring custom functions in our workflow. Each function has been documented accordingly to indicate its proper usage. Please note some functions have optional parameter values in order to define added features to our analysis."
   ]
  },
  {
   "cell_type": "code",
   "execution_count": 32,
   "metadata": {},
   "outputs": [],
   "source": [
    "#used to load .las data into a laspy object.\n",
    "def load_laspy(las_location):\n",
    "      input_las = laspy.read(las_location)\n",
    "      \n",
    "      return input_las\n",
    "\n",
    "#used to return a list of unique classifications present in the input LAS file.\n",
    "def get_list_classifications(input_las):\n",
    "    classifications = list(set(input_las.classification))\n",
    "    classifications.sort()\n",
    "    \n",
    "    return classifications\n",
    "\n",
    "#Used to return a Python dictionary of laspy objects of the entire dataset as well as individual classifications.\n",
    "def get_classifications_laspy(input_las):\n",
    "    #get a unique list of the classifications currently contained in the dataset.\n",
    "    classifications = get_list_classifications(input_las=input_las)\n",
    "    #create dictionary with complete data for each province\n",
    "    d = {\"original_dataset\": input_las}\n",
    "    print(\"The classifications contained in this .las dataset are: \")\n",
    "    print(classifications)\n",
    "    print(\"Creating a python dictionary containing the entire dataset and individual classifications as separate laspy objects.\")\n",
    "    for classification in classifications:\n",
    "        print(\"Saving classification number: \" +str(classification))\n",
    "        classified_points = laspy.create(point_format=input_las.header.point_format, file_version=input_las.header.version)\n",
    "        classified_points.points = input_las.points[input_las.classification == classification]\n",
    "        \n",
    "        d[\"classification_{}\".format(str(classification))] = classified_points\n",
    "    \n",
    "    return d\n",
    "\n",
    "#Optional function which takes the dictionary of laspy objects and converts every classification\n",
    "#   into individual .LAS files \n",
    "def laspy_classifications_to_las(classifications_laspy):\n",
    "    for classification_las in classifications_laspy:\n",
    "        if classification_las == \"original_dataset\":\n",
    "            pass\n",
    "            print(\"skipped exporting the original dataset.\")\n",
    "        else:\n",
    "            print(\"processing {} to a LAS file: \".format(classification_las))\n",
    "            print(classifications_laspy[classification_las])\n",
    "            classifications_laspy[classification_las].write(\"classification_{}.las\".format(classification_las.split(\"_\")[1]))\n",
    "            print(\"done\")\n",
    "\n",
    "# Convert a .LAS file into a pandas object.\n",
    "def convert_laspy_pandas(input_las):\n",
    "    # Convert data into pandas DataFrame\n",
    "    df = pd.DataFrame({\"X\":input_las.X,\"Y\":input_las.Y,\"Z\":input_las.Z,\n",
    "      \"x\":np.array(input_las.x),\"y\":np.array(input_las.y),\"z\":np.array(input_las.z),\n",
    "     'intensity': input_las.intensity,\n",
    "      'classification': input_las.classification,\n",
    "      'return_number': np.array(input_las.return_number),\n",
    "      'number_of_returns':np.array(input_las.number_of_returns),\n",
    "      'synthetic':np.array(input_las.synthetic),\n",
    "      'key_point':np.array(input_las.key_point),\n",
    "      'withheld':np.array(input_las.withheld),\n",
    "      'overlap':np.array(input_las.overlap),\n",
    "      'scanner_channel':np.array(input_las.scanner_channel),\n",
    "      'scan_direction_flag':np.array(input_las.scan_direction_flag),\n",
    "      'user_data':input_las.user_data,\n",
    "      'scan_angle':input_las.scan_angle,\n",
    "      'point_source_id':input_las.point_source_id,\n",
    "      'gps_time':input_las.gps_time    \n",
    "      })\n",
    "\n",
    "    return df\n",
    "\n",
    "# Convert a .LAS file into a pandas object.\n",
    "def convert_laspy_pandas_esri(input_las):\n",
    "    # Convert data into pandas DataFrame\n",
    "    df = pd.DataFrame({\"X\":input_las.X,\"Y\":input_las.Y,\"Z\":input_las.Z,\n",
    "      \"x\":np.array(input_las.x),\"y\":np.array(input_las.y),\"z\":np.array(input_las.z),\n",
    "      'intensity': input_las.intensity,\n",
    "      'return_number': np.array(input_las.return_number),\n",
    "      'number_of_returns':np.array(input_las.number_of_returns),\n",
    "      'scan_direction_flag':np.array(input_las.scan_direction_flag),\n",
    "      'edge_of_flight_line':np.array(input_las.edge_of_flight_line),\n",
    "      'classification': np.array(input_las.classification),\n",
    "      'synthetic':np.array(input_las.synthetic),\n",
    "      'key_point':np.array(input_las.key_point),\n",
    "      'withheld':np.array(input_las.withheld),\n",
    "      'scan_angle_rank':np.array(input_las.scan_angle_rank),\n",
    "      'user_data':input_las.user_data,\n",
    "      'point_source_id':input_las.point_source_id,\n",
    "      'gps_time':input_las.gps_time,\n",
    "      'red':input_las.red,\n",
    "      'green':input_las.green,\n",
    "      'blue':input_las.blue,    \n",
    "      })\n",
    "\n",
    "    return df\n",
    "\n",
    "def get_selected_classes(classifications,input_las):\n",
    "    classes = get_list_classifications(input_las=input_las)\n",
    "    available_classes = classes\n",
    "    available_classes.append(1000) #to represent the entire dataset\n",
    "    class_selections = []\n",
    "    current_selection = -10\n",
    "\n",
    "    while current_selection == -10:\n",
    "        print(\"Available classifications: \" + str(available_classes))\n",
    "        try:\n",
    "            current_selection = input(\"Enter a number from the list of available classifications. To get the full dataset enter 1000 : \\n\")\n",
    "            if current_selection.isnumeric() == False:\n",
    "                print(\"Invalid Character Input.\")\n",
    "                raise ValueError()\n",
    "            current_selection = int(current_selection)\n",
    "            if current_selection not in available_classes:\n",
    "                print(\"The classification number you selected: {}, is not an available class item.\".format(current_selection))\n",
    "                cancel = input(\"Would you like to exit instead? 'Y/N' \").upper() + \"Y\"\n",
    "                if cancel[0] == \"Y\":\n",
    "                    current_selection = -1000\n",
    "                    print(\"Exiting and returning empty classification selection list.\")\n",
    "                    class_selections = []    \n",
    "                else: \n",
    "                    raise ValueError()\n",
    "            if (current_selection != -1000) & (current_selection != 1000):\n",
    "\n",
    "                if 1000 in available_classes:\n",
    "                    available_classes.remove(1000)\n",
    "                class_selections.append(current_selection)\n",
    "                print(\"Class {} added to dataframe.\".format(str(current_selection)))\n",
    "                available_classes.remove(current_selection)\n",
    "                ask = input(\"Would you like to add another classification to the dataframe? 'Y/N' \").upper() + \"Y\"\n",
    "\n",
    "                #If user prompts to add another classification, reset variable and start again.\n",
    "                if ask[0] == \"Y\":\n",
    "                    current_selection = -10\n",
    "                #If user prompts to stop, exit loop and create pandas dataframe.\n",
    "                else:\n",
    "                    print(\"Classifications have been selected.\")\n",
    "                    class_selections.sort()\n",
    "\n",
    "            elif current_selection == 1000:\n",
    "                print(\"The entire dataset has been selected\")\n",
    "                class_selections = get_list_classifications(input_las=input_las)\n",
    "                print(\"All classes have been added to the dataframe.\")\n",
    "                class_selections.sort()\n",
    "\n",
    "        except ValueError:\n",
    "            print(\"Please select an input from the available classification list. \\n\")\n",
    "            current_selection = -10\n",
    "\n",
    "    \n",
    "    return class_selections\n",
    "\n",
    "def create_combined_classifications_dataframe(class_selections,df):\n",
    "    if len(class_selections) > 0:\n",
    "        #initialize the dataframe with the first set of classifications\n",
    "        combined_df = df.loc[df[\"classification\"] == class_selections[0]]\n",
    "        #iterate and append remaining classifications \n",
    "        for selection in class_selections[1:]:\n",
    "            combined_df=pd.concat([combined_df, df.loc[df[\"classification\"] == selection]])\n",
    "    else:\n",
    "        combined_df = pd.DataFrame()\n",
    "\n",
    "    return combined_df\n",
    "\n",
    "def create_laspy_from_dataframe(input_las,combined_df):\n",
    "    classified_points = laspy.create(point_format=input_las.header.point_format, file_version=input_las.header.version)\n",
    "    classified_points.X = combined_df[\"X\"]\n",
    "    classified_points.Y = combined_df[\"Y\"]\n",
    "    classified_points.Z = combined_df[\"Z\"]\n",
    "    classified_points.intensity = combined_df[\"intensity\"]\n",
    "    classified_points.classification = combined_df[\"classification\"]\n",
    "\n",
    "    return classified_points\n",
    "\n",
    "def get_numpy_points_from_laspy_scaled(classified_points):\n",
    "    point_records = classified_points.points.copy()\n",
    "    # getting scaling and offset parameters\n",
    "    las_scaleX = classified_points.header.scale[0]\n",
    "    las_offsetX = classified_points.header.offset[0]\n",
    "    las_scaleY = classified_points.header.scale[1]\n",
    "    las_offsetY = classified_points.header.offset[1]\n",
    "    las_scaleZ = classified_points.header.scale[2]\n",
    "    las_offsetZ = classified_points.header.offset[2]\n",
    "    # calculating coordinates\n",
    "    p_X = np.array((point_records.X * las_scaleX) + las_offsetX) \n",
    "    p_Y = np.array((point_records.Y * las_scaleY) + las_offsetY)\n",
    "    p_Z = np.array((point_records.Z * las_scaleZ) + las_offsetZ)\n",
    "\n",
    "    classified_points_numpy = np.array(list(zip(p_X,p_Y,p_Z)))\n",
    "\n",
    "    return classified_points_numpy\n",
    "\n",
    "\n",
    "def get_numpy_points_from_laspy_unscaled(classified_points):\n",
    "    point_records = classified_points.points.copy()\n",
    "    # calculating coordinates\n",
    "    p_X = np.array(point_records.X)\n",
    "    p_Y = np.array(point_records.Y)\n",
    "    p_Z = np.array(point_records.Z)\n",
    "\n",
    "    classified_points_numpy = np.array(list(zip(p_X,p_Y,p_Z)))\n",
    "\n",
    "    return classified_points_numpy\n",
    "\n",
    "def get_numpy_points_from_pandas_unscaled(combined_df):\n",
    "\n",
    "    classified_points_numpy = np.array(list(zip(np.array(combined_df[\"X\"]),\n",
    "                                    np.array(combined_df[\"Y\"]),\n",
    "                                    np.array(combined_df[\"Z\"]))))\n",
    "\n",
    "    return classified_points_numpy\n",
    "\n",
    "def get_numpy_points_from_pandas_scaled(combined_df):\n",
    "\n",
    "    classified_points_numpy = np.array(list(zip(np.array(combined_df[\"x\"]),\n",
    "                                    np.array(combined_df[\"y\"]),\n",
    "                                    np.array(combined_df[\"z\"]))))\n",
    "\n",
    "    return classified_points_numpy\n",
    "\n",
    "#input numpy array to visualize using open3d\n",
    "def visualize_las(classified_points,df= pd.DataFrame()):\n",
    "        \n",
    "    dataset = classified_points\n",
    "    geom = o3d.geometry.PointCloud()\n",
    "    geom.points = o3d.utility.Vector3dVector(dataset)\n",
    "    #geom.colors = o3d.utility.Vector3dVector(x)\n",
    "    #print(df)\n",
    "\n",
    "    if df.empty is False:\n",
    "        print(\"entered df\")\n",
    "        #coord = o3d.geometry.TriangleMesh().create_coordinate_frame(size=df.X[0], origin=[df.X.mean(), df.Y.mean(), df.Z.mean()])\n",
    "        coord_origin = o3d.geometry.TriangleMesh().create_coordinate_frame(size=10000, origin=[0,0,0])\n",
    "        coord = o3d.geometry.TriangleMesh().create_coordinate_frame(size=10000, origin=[df.X.mean(),df.Y.mean(),df.Z.mean()])\n",
    "        #coord = o3d.geometry.TriangleMesh().create_coordinate_frame(size=10, origin=[0,0,0])\n",
    "        o3d.visualization.draw_geometries([coord,coord_origin,geom])\n",
    "        #o3d.visualization.draw_geometries([geom])\n",
    "\n",
    "    else:\n",
    "        o3d.visualization.draw_geometries([geom])\n",
    "        print(\"did not enter coordinate frame\")\n",
    "    \n",
    "\n",
    "def multiple_classifications_to_las(classified_points,class_selections):\n",
    "    ##write to a .las file\n",
    "    class_selections.sort()\n",
    "    sorted_classes_str = \"_\".join(map(str,class_selections))\n",
    "    las_file_name = \"classifications_\" + sorted_classes_str +\".las\"\n",
    "    classified_points.write(las_file_name)\n",
    "    print(\"Created file: \" + sorted_classes_str)\n",
    "\n",
    "\n"
   ]
  },
  {
   "cell_type": "code",
   "execution_count": 3,
   "metadata": {},
   "outputs": [
    {
     "name": "stdout",
     "output_type": "stream",
     "text": [
      "The classifications contained in this .las dataset are: \n",
      "[1, 2, 5, 6, 7, 14, 15]\n",
      "Creating a python dictionary containing the entire dataset and individual classifications as separate laspy objects.\n",
      "Saving classification number: 1\n",
      "Saving classification number: 2\n",
      "Saving classification number: 5\n",
      "Saving classification number: 6\n",
      "Saving classification number: 7\n",
      "Saving classification number: 14\n",
      "Saving classification number: 15\n",
      "Available classifications: [1, 2, 5, 6, 7, 14, 15, 1000]\n",
      "The entire dataset has been selected\n",
      "All classes have been added to the dataframe.\n"
     ]
    }
   ],
   "source": [
    "input_las = load_laspy(r'C:\\Users\\jreye\\Desktop\\AGRG\\esri_lidar\\liclass\\esri_las_converted\\Tile_56_sub.las')\n",
    "classifications = get_list_classifications(input_las=input_las)\n",
    "classifications_laspy =  get_classifications_laspy(input_las=input_las)\n",
    "\n",
    "#input_las.header.scales\n",
    "\n",
    "#classifications_laspy\n",
    "\n",
    "#input_las\n",
    "\n",
    "point_format = input_las.point_format\n",
    "#list(point_format.dimension_names)\n",
    "\n",
    "class_selections = get_selected_classes(classifications=classifications, input_las=input_las)\n",
    "\n",
    "df = convert_laspy_pandas_esri(input_las=input_las)\n",
    "\n",
    "combined_df = create_combined_classifications_dataframe(class_selections=class_selections,df=df)\n",
    "\n",
    "\n",
    "classified_points = create_laspy_from_dataframe(input_las=input_las,combined_df=combined_df)\n",
    "\n",
    "classified_points_numpy_scaled_laspy = get_numpy_points_from_laspy_scaled(classified_points=classified_points)\n",
    "#Convert from laspy to numpy unscaled\n",
    "\n",
    "classified_points_numpy_unscaled_laspy = get_numpy_points_from_laspy_unscaled(classified_points=classified_points)\n"
   ]
  },
  {
   "attachments": {},
   "cell_type": "markdown",
   "metadata": {},
   "source": [
    "## Second LAS file"
   ]
  },
  {
   "cell_type": "code",
   "execution_count": 4,
   "metadata": {},
   "outputs": [
    {
     "name": "stdout",
     "output_type": "stream",
     "text": [
      "The classifications contained in this .las dataset are: \n",
      "[1, 2, 5, 6, 7, 14, 15]\n",
      "Creating a python dictionary containing the entire dataset and individual classifications as separate laspy objects.\n",
      "Saving classification number: 1\n",
      "Saving classification number: 2\n",
      "Saving classification number: 5\n",
      "Saving classification number: 6\n",
      "Saving classification number: 7\n",
      "Saving classification number: 14\n",
      "Saving classification number: 15\n",
      "Available classifications: [1, 2, 5, 6, 7, 14, 15, 1000]\n",
      "The entire dataset has been selected\n",
      "All classes have been added to the dataframe.\n"
     ]
    }
   ],
   "source": [
    "input_las = load_laspy(r'C:\\Users\\jreye\\Desktop\\AGRG\\esri_lidar\\liclass\\esri_las_converted\\Tile_59.las')\n",
    "classifications = get_list_classifications(input_las=input_las)\n",
    "classifications_laspy =  get_classifications_laspy(input_las=input_las)\n",
    "#input_las.header.scales\n",
    "#classifications_laspy\n",
    "#input_las\n",
    "point_format_2 = input_las.point_format\n",
    "#list(point_format.dimension_names)\n",
    "\n",
    "class_selections = get_selected_classes(classifications=classifications, input_las=input_las)\n",
    "\n",
    "df_2 = convert_laspy_pandas_esri(input_las=input_las)\n",
    "\n",
    "combined_df_2 = create_combined_classifications_dataframe(class_selections=class_selections,df=df_2)\n",
    "classified_points_2 = create_laspy_from_dataframe(input_las=input_las,combined_df=combined_df_2)\n",
    "classified_points_numpy_scaled_laspy_2 = get_numpy_points_from_laspy_scaled(classified_points=classified_points_2)\n",
    "#Convert from laspy to numpy unscaled\n",
    "classified_points_numpy_unscaled_laspy_2 = get_numpy_points_from_laspy_unscaled(classified_points=classified_points_2)\n"
   ]
  },
  {
   "attachments": {},
   "cell_type": "markdown",
   "metadata": {},
   "source": [
    "# Visualization"
   ]
  },
  {
   "cell_type": "code",
   "execution_count": 8,
   "metadata": {},
   "outputs": [],
   "source": [
    "df[\"X_new\"] = (df.X - 1*df.X.mean())\n",
    "df[\"Y_new\"] = (df.Y - 1*df.Y.mean())\n",
    "df[\"Z_new\"] = (df.Z - 1*df.Z.mean())"
   ]
  },
  {
   "cell_type": "code",
   "execution_count": 11,
   "metadata": {},
   "outputs": [
    {
     "data": {
      "text/html": [
       "<div>\n",
       "<style scoped>\n",
       "    .dataframe tbody tr th:only-of-type {\n",
       "        vertical-align: middle;\n",
       "    }\n",
       "\n",
       "    .dataframe tbody tr th {\n",
       "        vertical-align: top;\n",
       "    }\n",
       "\n",
       "    .dataframe thead th {\n",
       "        text-align: right;\n",
       "    }\n",
       "</style>\n",
       "<table border=\"1\" class=\"dataframe\">\n",
       "  <thead>\n",
       "    <tr style=\"text-align: right;\">\n",
       "      <th></th>\n",
       "      <th>X</th>\n",
       "      <th>Y</th>\n",
       "      <th>Z</th>\n",
       "      <th>x</th>\n",
       "      <th>y</th>\n",
       "      <th>z</th>\n",
       "      <th>intensity</th>\n",
       "      <th>return_number</th>\n",
       "      <th>number_of_returns</th>\n",
       "      <th>scan_direction_flag</th>\n",
       "      <th>...</th>\n",
       "      <th>scan_angle_rank</th>\n",
       "      <th>user_data</th>\n",
       "      <th>point_source_id</th>\n",
       "      <th>gps_time</th>\n",
       "      <th>red</th>\n",
       "      <th>green</th>\n",
       "      <th>blue</th>\n",
       "      <th>X_new</th>\n",
       "      <th>Y_new</th>\n",
       "      <th>Z_new</th>\n",
       "    </tr>\n",
       "  </thead>\n",
       "  <tbody>\n",
       "    <tr>\n",
       "      <th>0</th>\n",
       "      <td>-68066</td>\n",
       "      <td>41108</td>\n",
       "      <td>-83148</td>\n",
       "      <td>6391339.34</td>\n",
       "      <td>1905736.08</td>\n",
       "      <td>1050.52</td>\n",
       "      <td>66</td>\n",
       "      <td>1</td>\n",
       "      <td>1</td>\n",
       "      <td>0</td>\n",
       "      <td>...</td>\n",
       "      <td>8</td>\n",
       "      <td>0</td>\n",
       "      <td>335</td>\n",
       "      <td>6.556441e+07</td>\n",
       "      <td>33536</td>\n",
       "      <td>32256</td>\n",
       "      <td>25856</td>\n",
       "      <td>-66010.828321</td>\n",
       "      <td>-32096.175495</td>\n",
       "      <td>6925.060737</td>\n",
       "    </tr>\n",
       "    <tr>\n",
       "      <th>1</th>\n",
       "      <td>-68289</td>\n",
       "      <td>41016</td>\n",
       "      <td>-83151</td>\n",
       "      <td>6391337.11</td>\n",
       "      <td>1905735.16</td>\n",
       "      <td>1050.49</td>\n",
       "      <td>77</td>\n",
       "      <td>1</td>\n",
       "      <td>1</td>\n",
       "      <td>0</td>\n",
       "      <td>...</td>\n",
       "      <td>8</td>\n",
       "      <td>0</td>\n",
       "      <td>335</td>\n",
       "      <td>6.556441e+07</td>\n",
       "      <td>44544</td>\n",
       "      <td>43008</td>\n",
       "      <td>34560</td>\n",
       "      <td>-66233.828321</td>\n",
       "      <td>-32188.175495</td>\n",
       "      <td>6922.060737</td>\n",
       "    </tr>\n",
       "    <tr>\n",
       "      <th>2</th>\n",
       "      <td>-69385</td>\n",
       "      <td>40977</td>\n",
       "      <td>-83144</td>\n",
       "      <td>6391326.15</td>\n",
       "      <td>1905734.77</td>\n",
       "      <td>1050.56</td>\n",
       "      <td>167</td>\n",
       "      <td>1</td>\n",
       "      <td>1</td>\n",
       "      <td>1</td>\n",
       "      <td>...</td>\n",
       "      <td>8</td>\n",
       "      <td>0</td>\n",
       "      <td>335</td>\n",
       "      <td>6.556441e+07</td>\n",
       "      <td>39424</td>\n",
       "      <td>37376</td>\n",
       "      <td>29440</td>\n",
       "      <td>-67329.828321</td>\n",
       "      <td>-32227.175495</td>\n",
       "      <td>6929.060737</td>\n",
       "    </tr>\n",
       "    <tr>\n",
       "      <th>3</th>\n",
       "      <td>-69188</td>\n",
       "      <td>41059</td>\n",
       "      <td>-83174</td>\n",
       "      <td>6391328.12</td>\n",
       "      <td>1905735.59</td>\n",
       "      <td>1050.26</td>\n",
       "      <td>107</td>\n",
       "      <td>1</td>\n",
       "      <td>1</td>\n",
       "      <td>1</td>\n",
       "      <td>...</td>\n",
       "      <td>8</td>\n",
       "      <td>0</td>\n",
       "      <td>335</td>\n",
       "      <td>6.556441e+07</td>\n",
       "      <td>47872</td>\n",
       "      <td>47616</td>\n",
       "      <td>40960</td>\n",
       "      <td>-67132.828321</td>\n",
       "      <td>-32145.175495</td>\n",
       "      <td>6899.060737</td>\n",
       "    </tr>\n",
       "    <tr>\n",
       "      <th>4</th>\n",
       "      <td>-68991</td>\n",
       "      <td>41141</td>\n",
       "      <td>-83161</td>\n",
       "      <td>6391330.09</td>\n",
       "      <td>1905736.41</td>\n",
       "      <td>1050.39</td>\n",
       "      <td>97</td>\n",
       "      <td>1</td>\n",
       "      <td>1</td>\n",
       "      <td>1</td>\n",
       "      <td>...</td>\n",
       "      <td>8</td>\n",
       "      <td>0</td>\n",
       "      <td>335</td>\n",
       "      <td>6.556441e+07</td>\n",
       "      <td>35584</td>\n",
       "      <td>35072</td>\n",
       "      <td>28672</td>\n",
       "      <td>-66935.828321</td>\n",
       "      <td>-32063.175495</td>\n",
       "      <td>6912.060737</td>\n",
       "    </tr>\n",
       "    <tr>\n",
       "      <th>...</th>\n",
       "      <td>...</td>\n",
       "      <td>...</td>\n",
       "      <td>...</td>\n",
       "      <td>...</td>\n",
       "      <td>...</td>\n",
       "      <td>...</td>\n",
       "      <td>...</td>\n",
       "      <td>...</td>\n",
       "      <td>...</td>\n",
       "      <td>...</td>\n",
       "      <td>...</td>\n",
       "      <td>...</td>\n",
       "      <td>...</td>\n",
       "      <td>...</td>\n",
       "      <td>...</td>\n",
       "      <td>...</td>\n",
       "      <td>...</td>\n",
       "      <td>...</td>\n",
       "      <td>...</td>\n",
       "      <td>...</td>\n",
       "      <td>...</td>\n",
       "    </tr>\n",
       "    <tr>\n",
       "      <th>1233130</th>\n",
       "      <td>63939</td>\n",
       "      <td>105140</td>\n",
       "      <td>-95999</td>\n",
       "      <td>6392659.39</td>\n",
       "      <td>1906376.40</td>\n",
       "      <td>922.01</td>\n",
       "      <td>171</td>\n",
       "      <td>1</td>\n",
       "      <td>1</td>\n",
       "      <td>0</td>\n",
       "      <td>...</td>\n",
       "      <td>-8</td>\n",
       "      <td>0</td>\n",
       "      <td>1339</td>\n",
       "      <td>6.556587e+07</td>\n",
       "      <td>12544</td>\n",
       "      <td>15104</td>\n",
       "      <td>9728</td>\n",
       "      <td>65994.171679</td>\n",
       "      <td>31935.824505</td>\n",
       "      <td>-5925.939263</td>\n",
       "    </tr>\n",
       "    <tr>\n",
       "      <th>1233131</th>\n",
       "      <td>63755</td>\n",
       "      <td>105058</td>\n",
       "      <td>-95877</td>\n",
       "      <td>6392657.55</td>\n",
       "      <td>1906375.58</td>\n",
       "      <td>923.23</td>\n",
       "      <td>123</td>\n",
       "      <td>1</td>\n",
       "      <td>1</td>\n",
       "      <td>0</td>\n",
       "      <td>...</td>\n",
       "      <td>-8</td>\n",
       "      <td>0</td>\n",
       "      <td>1339</td>\n",
       "      <td>6.556587e+07</td>\n",
       "      <td>13568</td>\n",
       "      <td>16640</td>\n",
       "      <td>10752</td>\n",
       "      <td>65810.171679</td>\n",
       "      <td>31853.824505</td>\n",
       "      <td>-5803.939263</td>\n",
       "    </tr>\n",
       "    <tr>\n",
       "      <th>1233132</th>\n",
       "      <td>63496</td>\n",
       "      <td>104937</td>\n",
       "      <td>-96205</td>\n",
       "      <td>6392654.96</td>\n",
       "      <td>1906374.37</td>\n",
       "      <td>919.95</td>\n",
       "      <td>156</td>\n",
       "      <td>1</td>\n",
       "      <td>1</td>\n",
       "      <td>0</td>\n",
       "      <td>...</td>\n",
       "      <td>-8</td>\n",
       "      <td>0</td>\n",
       "      <td>1339</td>\n",
       "      <td>6.556587e+07</td>\n",
       "      <td>14592</td>\n",
       "      <td>17664</td>\n",
       "      <td>11264</td>\n",
       "      <td>65551.171679</td>\n",
       "      <td>31732.824505</td>\n",
       "      <td>-6131.939263</td>\n",
       "    </tr>\n",
       "    <tr>\n",
       "      <th>1233133</th>\n",
       "      <td>63483</td>\n",
       "      <td>105029</td>\n",
       "      <td>-95953</td>\n",
       "      <td>6392654.83</td>\n",
       "      <td>1906375.29</td>\n",
       "      <td>922.47</td>\n",
       "      <td>131</td>\n",
       "      <td>1</td>\n",
       "      <td>2</td>\n",
       "      <td>1</td>\n",
       "      <td>...</td>\n",
       "      <td>-8</td>\n",
       "      <td>0</td>\n",
       "      <td>1339</td>\n",
       "      <td>6.556587e+07</td>\n",
       "      <td>16896</td>\n",
       "      <td>20480</td>\n",
       "      <td>13312</td>\n",
       "      <td>65538.171679</td>\n",
       "      <td>31824.824505</td>\n",
       "      <td>-5879.939263</td>\n",
       "    </tr>\n",
       "    <tr>\n",
       "      <th>1233134</th>\n",
       "      <td>63709</td>\n",
       "      <td>105134</td>\n",
       "      <td>-95982</td>\n",
       "      <td>6392657.09</td>\n",
       "      <td>1906376.34</td>\n",
       "      <td>922.18</td>\n",
       "      <td>182</td>\n",
       "      <td>1</td>\n",
       "      <td>1</td>\n",
       "      <td>1</td>\n",
       "      <td>...</td>\n",
       "      <td>-8</td>\n",
       "      <td>0</td>\n",
       "      <td>1339</td>\n",
       "      <td>6.556587e+07</td>\n",
       "      <td>11520</td>\n",
       "      <td>13824</td>\n",
       "      <td>8960</td>\n",
       "      <td>65764.171679</td>\n",
       "      <td>31929.824505</td>\n",
       "      <td>-5908.939263</td>\n",
       "    </tr>\n",
       "  </tbody>\n",
       "</table>\n",
       "<p>1233135 rows × 25 columns</p>\n",
       "</div>"
      ],
      "text/plain": [
       "             X       Y      Z           x           y        z  intensity  \\\n",
       "0       -68066   41108 -83148  6391339.34  1905736.08  1050.52         66   \n",
       "1       -68289   41016 -83151  6391337.11  1905735.16  1050.49         77   \n",
       "2       -69385   40977 -83144  6391326.15  1905734.77  1050.56        167   \n",
       "3       -69188   41059 -83174  6391328.12  1905735.59  1050.26        107   \n",
       "4       -68991   41141 -83161  6391330.09  1905736.41  1050.39         97   \n",
       "...        ...     ...    ...         ...         ...      ...        ...   \n",
       "1233130  63939  105140 -95999  6392659.39  1906376.40   922.01        171   \n",
       "1233131  63755  105058 -95877  6392657.55  1906375.58   923.23        123   \n",
       "1233132  63496  104937 -96205  6392654.96  1906374.37   919.95        156   \n",
       "1233133  63483  105029 -95953  6392654.83  1906375.29   922.47        131   \n",
       "1233134  63709  105134 -95982  6392657.09  1906376.34   922.18        182   \n",
       "\n",
       "         return_number  number_of_returns  scan_direction_flag  ...  \\\n",
       "0                    1                  1                    0  ...   \n",
       "1                    1                  1                    0  ...   \n",
       "2                    1                  1                    1  ...   \n",
       "3                    1                  1                    1  ...   \n",
       "4                    1                  1                    1  ...   \n",
       "...                ...                ...                  ...  ...   \n",
       "1233130              1                  1                    0  ...   \n",
       "1233131              1                  1                    0  ...   \n",
       "1233132              1                  1                    0  ...   \n",
       "1233133              1                  2                    1  ...   \n",
       "1233134              1                  1                    1  ...   \n",
       "\n",
       "         scan_angle_rank  user_data  point_source_id      gps_time    red  \\\n",
       "0                      8          0              335  6.556441e+07  33536   \n",
       "1                      8          0              335  6.556441e+07  44544   \n",
       "2                      8          0              335  6.556441e+07  39424   \n",
       "3                      8          0              335  6.556441e+07  47872   \n",
       "4                      8          0              335  6.556441e+07  35584   \n",
       "...                  ...        ...              ...           ...    ...   \n",
       "1233130               -8          0             1339  6.556587e+07  12544   \n",
       "1233131               -8          0             1339  6.556587e+07  13568   \n",
       "1233132               -8          0             1339  6.556587e+07  14592   \n",
       "1233133               -8          0             1339  6.556587e+07  16896   \n",
       "1233134               -8          0             1339  6.556587e+07  11520   \n",
       "\n",
       "         green   blue         X_new         Y_new        Z_new  \n",
       "0        32256  25856 -66010.828321 -32096.175495  6925.060737  \n",
       "1        43008  34560 -66233.828321 -32188.175495  6922.060737  \n",
       "2        37376  29440 -67329.828321 -32227.175495  6929.060737  \n",
       "3        47616  40960 -67132.828321 -32145.175495  6899.060737  \n",
       "4        35072  28672 -66935.828321 -32063.175495  6912.060737  \n",
       "...        ...    ...           ...           ...          ...  \n",
       "1233130  15104   9728  65994.171679  31935.824505 -5925.939263  \n",
       "1233131  16640  10752  65810.171679  31853.824505 -5803.939263  \n",
       "1233132  17664  11264  65551.171679  31732.824505 -6131.939263  \n",
       "1233133  20480  13312  65538.171679  31824.824505 -5879.939263  \n",
       "1233134  13824   8960  65764.171679  31929.824505 -5908.939263  \n",
       "\n",
       "[1233135 rows x 25 columns]"
      ]
     },
     "execution_count": 11,
     "metadata": {},
     "output_type": "execute_result"
    }
   ],
   "source": [
    "df"
   ]
  },
  {
   "cell_type": "code",
   "execution_count": 38,
   "metadata": {},
   "outputs": [
    {
     "data": {
      "text/plain": [
       "Index(['X', 'Y', 'Z', 'x', 'y', 'z', 'intensity', 'return_number',\n",
       "       'number_of_returns', 'scan_direction_flag', 'edge_of_flight_line',\n",
       "       'classification', 'synthetic', 'key_point', 'withheld',\n",
       "       'scan_angle_rank', 'user_data', 'point_source_id', 'gps_time', 'red',\n",
       "       'green', 'blue', 'X_new', 'Y_new', 'Z_new'],\n",
       "      dtype='object')"
      ]
     },
     "execution_count": 38,
     "metadata": {},
     "output_type": "execute_result"
    }
   ],
   "source": [
    "df.columns"
   ]
  },
  {
   "cell_type": "code",
   "execution_count": 65,
   "metadata": {},
   "outputs": [
    {
     "data": {
      "text/html": [
       "<div>\n",
       "<style scoped>\n",
       "    .dataframe tbody tr th:only-of-type {\n",
       "        vertical-align: middle;\n",
       "    }\n",
       "\n",
       "    .dataframe tbody tr th {\n",
       "        vertical-align: top;\n",
       "    }\n",
       "\n",
       "    .dataframe thead th {\n",
       "        text-align: right;\n",
       "    }\n",
       "</style>\n",
       "<table border=\"1\" class=\"dataframe\">\n",
       "  <thead>\n",
       "    <tr style=\"text-align: right;\">\n",
       "      <th></th>\n",
       "      <th>X</th>\n",
       "      <th>Y</th>\n",
       "      <th>Z</th>\n",
       "      <th>classification</th>\n",
       "      <th>intensity</th>\n",
       "      <th>return_number</th>\n",
       "      <th>red</th>\n",
       "      <th>green</th>\n",
       "      <th>blue</th>\n",
       "    </tr>\n",
       "  </thead>\n",
       "  <tbody>\n",
       "    <tr>\n",
       "      <th>0</th>\n",
       "      <td>-68066</td>\n",
       "      <td>41108</td>\n",
       "      <td>-83148</td>\n",
       "      <td>2</td>\n",
       "      <td>66</td>\n",
       "      <td>1</td>\n",
       "      <td>33536</td>\n",
       "      <td>32256</td>\n",
       "      <td>25856</td>\n",
       "    </tr>\n",
       "    <tr>\n",
       "      <th>1</th>\n",
       "      <td>-68289</td>\n",
       "      <td>41016</td>\n",
       "      <td>-83151</td>\n",
       "      <td>2</td>\n",
       "      <td>77</td>\n",
       "      <td>1</td>\n",
       "      <td>44544</td>\n",
       "      <td>43008</td>\n",
       "      <td>34560</td>\n",
       "    </tr>\n",
       "    <tr>\n",
       "      <th>2</th>\n",
       "      <td>-69385</td>\n",
       "      <td>40977</td>\n",
       "      <td>-83144</td>\n",
       "      <td>1</td>\n",
       "      <td>167</td>\n",
       "      <td>1</td>\n",
       "      <td>39424</td>\n",
       "      <td>37376</td>\n",
       "      <td>29440</td>\n",
       "    </tr>\n",
       "    <tr>\n",
       "      <th>3</th>\n",
       "      <td>-69188</td>\n",
       "      <td>41059</td>\n",
       "      <td>-83174</td>\n",
       "      <td>2</td>\n",
       "      <td>107</td>\n",
       "      <td>1</td>\n",
       "      <td>47872</td>\n",
       "      <td>47616</td>\n",
       "      <td>40960</td>\n",
       "    </tr>\n",
       "    <tr>\n",
       "      <th>4</th>\n",
       "      <td>-68991</td>\n",
       "      <td>41141</td>\n",
       "      <td>-83161</td>\n",
       "      <td>1</td>\n",
       "      <td>97</td>\n",
       "      <td>1</td>\n",
       "      <td>35584</td>\n",
       "      <td>35072</td>\n",
       "      <td>28672</td>\n",
       "    </tr>\n",
       "    <tr>\n",
       "      <th>...</th>\n",
       "      <td>...</td>\n",
       "      <td>...</td>\n",
       "      <td>...</td>\n",
       "      <td>...</td>\n",
       "      <td>...</td>\n",
       "      <td>...</td>\n",
       "      <td>...</td>\n",
       "      <td>...</td>\n",
       "      <td>...</td>\n",
       "    </tr>\n",
       "    <tr>\n",
       "      <th>1233130</th>\n",
       "      <td>63939</td>\n",
       "      <td>105140</td>\n",
       "      <td>-95999</td>\n",
       "      <td>5</td>\n",
       "      <td>171</td>\n",
       "      <td>1</td>\n",
       "      <td>12544</td>\n",
       "      <td>15104</td>\n",
       "      <td>9728</td>\n",
       "    </tr>\n",
       "    <tr>\n",
       "      <th>1233131</th>\n",
       "      <td>63755</td>\n",
       "      <td>105058</td>\n",
       "      <td>-95877</td>\n",
       "      <td>5</td>\n",
       "      <td>123</td>\n",
       "      <td>1</td>\n",
       "      <td>13568</td>\n",
       "      <td>16640</td>\n",
       "      <td>10752</td>\n",
       "    </tr>\n",
       "    <tr>\n",
       "      <th>1233132</th>\n",
       "      <td>63496</td>\n",
       "      <td>104937</td>\n",
       "      <td>-96205</td>\n",
       "      <td>5</td>\n",
       "      <td>156</td>\n",
       "      <td>1</td>\n",
       "      <td>14592</td>\n",
       "      <td>17664</td>\n",
       "      <td>11264</td>\n",
       "    </tr>\n",
       "    <tr>\n",
       "      <th>1233133</th>\n",
       "      <td>63483</td>\n",
       "      <td>105029</td>\n",
       "      <td>-95953</td>\n",
       "      <td>5</td>\n",
       "      <td>131</td>\n",
       "      <td>1</td>\n",
       "      <td>16896</td>\n",
       "      <td>20480</td>\n",
       "      <td>13312</td>\n",
       "    </tr>\n",
       "    <tr>\n",
       "      <th>1233134</th>\n",
       "      <td>63709</td>\n",
       "      <td>105134</td>\n",
       "      <td>-95982</td>\n",
       "      <td>5</td>\n",
       "      <td>182</td>\n",
       "      <td>1</td>\n",
       "      <td>11520</td>\n",
       "      <td>13824</td>\n",
       "      <td>8960</td>\n",
       "    </tr>\n",
       "  </tbody>\n",
       "</table>\n",
       "<p>1233135 rows × 9 columns</p>\n",
       "</div>"
      ],
      "text/plain": [
       "             X       Y      Z  classification  intensity  return_number  \\\n",
       "0       -68066   41108 -83148               2         66              1   \n",
       "1       -68289   41016 -83151               2         77              1   \n",
       "2       -69385   40977 -83144               1        167              1   \n",
       "3       -69188   41059 -83174               2        107              1   \n",
       "4       -68991   41141 -83161               1         97              1   \n",
       "...        ...     ...    ...             ...        ...            ...   \n",
       "1233130  63939  105140 -95999               5        171              1   \n",
       "1233131  63755  105058 -95877               5        123              1   \n",
       "1233132  63496  104937 -96205               5        156              1   \n",
       "1233133  63483  105029 -95953               5        131              1   \n",
       "1233134  63709  105134 -95982               5        182              1   \n",
       "\n",
       "           red  green   blue  \n",
       "0        33536  32256  25856  \n",
       "1        44544  43008  34560  \n",
       "2        39424  37376  29440  \n",
       "3        47872  47616  40960  \n",
       "4        35584  35072  28672  \n",
       "...        ...    ...    ...  \n",
       "1233130  12544  15104   9728  \n",
       "1233131  13568  16640  10752  \n",
       "1233132  14592  17664  11264  \n",
       "1233133  16896  20480  13312  \n",
       "1233134  11520  13824   8960  \n",
       "\n",
       "[1233135 rows x 9 columns]"
      ]
     },
     "execution_count": 65,
     "metadata": {},
     "output_type": "execute_result"
    }
   ],
   "source": [
    "df[[\"X\",\"Y\",\"Z\",\"classification\",\"intensity\",\"return_number\",\"red\",\"green\",\"blue\"]]"
   ]
  },
  {
   "cell_type": "code",
   "execution_count": 72,
   "metadata": {},
   "outputs": [
    {
     "data": {
      "text/plain": [
       "array([ 2,  1,  7,  5,  6, 14, 15], dtype=uint8)"
      ]
     },
     "execution_count": 72,
     "metadata": {},
     "output_type": "execute_result"
    }
   ],
   "source": [
    "df.classification.unique()"
   ]
  },
  {
   "cell_type": "code",
   "execution_count": 49,
   "metadata": {},
   "outputs": [
    {
     "data": {
      "text/plain": [
       "(67194.1716794998, -67424.8283205002, 134619.0)"
      ]
     },
     "execution_count": 49,
     "metadata": {},
     "output_type": "execute_result"
    }
   ],
   "source": [
    "df.X_new.max(),df.X_new.min(),df.X_new.max()-df.X_new.min()"
   ]
  },
  {
   "cell_type": "code",
   "execution_count": 52,
   "metadata": {},
   "outputs": [
    {
     "data": {
      "text/plain": [
       "(65139, -69480, 134619)"
      ]
     },
     "execution_count": 52,
     "metadata": {},
     "output_type": "execute_result"
    }
   ],
   "source": [
    "df.X.max(),df.X.min(),df.X.max()-df.X.min()"
   ]
  },
  {
   "cell_type": "code",
   "execution_count": 40,
   "metadata": {},
   "outputs": [
    {
     "data": {
      "text/plain": [
       "<AxesSubplot: title={'center': 'X_new'}, xlabel='classification'>"
      ]
     },
     "execution_count": 40,
     "metadata": {},
     "output_type": "execute_result"
    },
    {
     "data": {
      "image/png": "[encoded data removed]",
      "text/plain": [
       "<Figure size 640x480 with 1 Axes>"
      ]
     },
     "metadata": {},
     "output_type": "display_data"
    }
   ],
   "source": [
    "df.boxplot(column=\"X_new\",by=\"classification\")"
   ]
  },
  {
   "cell_type": "code",
   "execution_count": 44,
   "metadata": {},
   "outputs": [
    {
     "name": "stdout",
     "output_type": "stream",
     "text": [
      "[44206 47885 50131 49538 43728 36597 32729 31799 31509 31834 34990 38828\n",
      " 39906 34989 36852 40876 48022 48316 51732 50765 47178 45843 40438 36628\n",
      " 33983 35999 38505 41745 45243 42341]\n",
      "[-67424.8283205 -62937.5283205 -58450.2283205 -53962.9283205\n",
      " -49475.6283205 -44988.3283205 -40501.0283205 -36013.7283205\n",
      " -31526.4283205 -27039.1283205 -22551.8283205 -18064.5283205\n",
      " -13577.2283205  -9089.9283205  -4602.6283205   -115.3283205\n",
      "   4371.9716795   8859.2716795  13346.5716795  17833.8716795\n",
      "  22321.1716795  26808.4716795  31295.7716795  35783.0716795\n",
      "  40270.3716795  44757.6716795  49244.9716795  53732.2716795\n",
      "  58219.5716795  62706.8716795  67194.1716795]\n"
     ]
    },
    {
     "data": {
      "text/plain": [
       "<matplotlib.patches.StepPatch at 0x15d590ba100>"
      ]
     },
     "execution_count": 44,
     "metadata": {},
     "output_type": "execute_result"
    },
    {
     "data": {
      "image/png": "[encoded data removed]",
      "text/plain": [
       "<Figure size 640x480 with 1 Axes>"
      ]
     },
     "metadata": {},
     "output_type": "display_data"
    }
   ],
   "source": [
    "counts, bins = np.histogram(df.X_new,bins=30)\n",
    "print(counts)\n",
    "print(bins)\n",
    "plt.stairs(counts, bins)"
   ]
  },
  {
   "cell_type": "code",
   "execution_count": 50,
   "metadata": {},
   "outputs": [
    {
     "data": {
      "text/plain": [
       "(31968.824505021752, -32237.175494978248, 64206.0)"
      ]
     },
     "execution_count": 50,
     "metadata": {},
     "output_type": "execute_result"
    }
   ],
   "source": [
    "df.Y_new.max(),df.Y_new.min(),df.Y_new.max()-df.Y_new.min()"
   ]
  },
  {
   "cell_type": "code",
   "execution_count": 42,
   "metadata": {},
   "outputs": [
    {
     "data": {
      "text/plain": [
       "<AxesSubplot: title={'center': 'Y_new'}, xlabel='classification'>"
      ]
     },
     "execution_count": 42,
     "metadata": {},
     "output_type": "execute_result"
    },
    {
     "data": {
      "image/png": "[encoded data removed]",
      "text/plain": [
       "<Figure size 640x480 with 1 Axes>"
      ]
     },
     "metadata": {},
     "output_type": "display_data"
    }
   ],
   "source": [
    "df.boxplot(column=\"Y_new\",by=\"classification\")"
   ]
  },
  {
   "cell_type": "code",
   "execution_count": 45,
   "metadata": {},
   "outputs": [
    {
     "name": "stdout",
     "output_type": "stream",
     "text": [
      "[41468 41767 41684 40940 40094 39876 41256 42452 42588 43221 42045 41071\n",
      " 41393 40692 39758 38855 37254 36813 38093 38638 38902 40745 42386 43852\n",
      " 41946 42236 43631 43096 43265 43118]\n",
      "[-32237.17549498 -30096.97549498 -27956.77549498 -25816.57549498\n",
      " -23676.37549498 -21536.17549498 -19395.97549498 -17255.77549498\n",
      " -15115.57549498 -12975.37549498 -10835.17549498  -8694.97549498\n",
      "  -6554.77549498  -4414.57549498  -2274.37549498   -134.17549498\n",
      "   2006.02450502   4146.22450502   6286.42450502   8426.62450502\n",
      "  10566.82450502  12707.02450502  14847.22450502  16987.42450502\n",
      "  19127.62450502  21267.82450502  23408.02450502  25548.22450502\n",
      "  27688.42450502  29828.62450502  31968.82450502]\n"
     ]
    },
    {
     "data": {
      "text/plain": [
       "<matplotlib.patches.StepPatch at 0x15d590ba310>"
      ]
     },
     "execution_count": 45,
     "metadata": {},
     "output_type": "execute_result"
    },
    {
     "data": {
      "image/png": "[encoded data removed]",
      "text/plain": [
       "<Figure size 640x480 with 1 Axes>"
      ]
     },
     "metadata": {},
     "output_type": "display_data"
    }
   ],
   "source": [
    "counts, bins = np.histogram(df.Y_new,bins=30)\n",
    "print(counts)\n",
    "print(bins)\n",
    "plt.stairs(counts, bins)"
   ]
  },
  {
   "cell_type": "code",
   "execution_count": 51,
   "metadata": {},
   "outputs": [
    {
     "data": {
      "text/plain": [
       "(14209.060737064472, -14543.939262935528, 28753.0)"
      ]
     },
     "execution_count": 51,
     "metadata": {},
     "output_type": "execute_result"
    }
   ],
   "source": [
    "df.Z_new.max(),df.Z_new.min(),df.Z_new.max()-df.Z_new.min()"
   ]
  },
  {
   "cell_type": "code",
   "execution_count": 43,
   "metadata": {},
   "outputs": [
    {
     "data": {
      "text/plain": [
       "<AxesSubplot: title={'center': 'Z_new'}, xlabel='classification'>"
      ]
     },
     "execution_count": 43,
     "metadata": {},
     "output_type": "execute_result"
    },
    {
     "data": {
      "image/png": "[encoded data removed]",
      "text/plain": [
       "<Figure size 640x480 with 1 Axes>"
      ]
     },
     "metadata": {},
     "output_type": "display_data"
    }
   ],
   "source": [
    "df.boxplot(column=\"Z_new\",by=\"classification\")"
   ]
  },
  {
   "cell_type": "code",
   "execution_count": 46,
   "metadata": {},
   "outputs": [
    {
     "name": "stdout",
     "output_type": "stream",
     "text": [
      "[ 2363 14853 20764 22443 29633 36531 33196 38369 41313 39934 44441 53336\n",
      " 57817 65102 72423 78973 82247 56197 42764 44687 79905 63732 82655 60775\n",
      " 33072 25911  6524  1935  1012   228]\n",
      "[-14543.93926294 -13585.5059296  -12627.07259627 -11668.63926294\n",
      " -10710.2059296   -9751.77259627  -8793.33926294  -7834.9059296\n",
      "  -6876.47259627  -5918.03926294  -4959.6059296   -4001.17259627\n",
      "  -3042.73926294  -2084.3059296   -1125.87259627   -167.43926294\n",
      "    790.9940704    1749.42740373   2707.86073706   3666.2940704\n",
      "   4624.72740373   5583.16073706   6541.5940704    7500.02740373\n",
      "   8458.46073706   9416.8940704   10375.32740373  11333.76073706\n",
      "  12292.1940704   13250.62740373  14209.06073706]\n"
     ]
    },
    {
     "data": {
      "text/plain": [
       "<matplotlib.patches.StepPatch at 0x15d58887be0>"
      ]
     },
     "execution_count": 46,
     "metadata": {},
     "output_type": "execute_result"
    },
    {
     "data": {
      "image/png": "[encoded data removed]",
      "text/plain": [
       "<Figure size 640x480 with 1 Axes>"
      ]
     },
     "metadata": {},
     "output_type": "display_data"
    }
   ],
   "source": [
    "counts, bins = np.histogram(df.Z_new,bins=30)\n",
    "print(counts)\n",
    "print(bins)\n",
    "plt.stairs(counts, bins)"
   ]
  },
  {
   "cell_type": "code",
   "execution_count": null,
   "metadata": {},
   "outputs": [],
   "source": []
  },
  {
   "cell_type": "code",
   "execution_count": null,
   "metadata": {},
   "outputs": [],
   "source": []
  },
  {
   "cell_type": "code",
   "execution_count": 37,
   "metadata": {},
   "outputs": [
    {
     "name": "stdout",
     "output_type": "stream",
     "text": [
      "entered df\n"
     ]
    }
   ],
   "source": [
    "subset1 = np.array(df[[\"X_new\",\"Y_new\",\"Z_new\"]])\n",
    "subset11 = np.array(df[[\"x\",\"y\",\"z\"]])\n",
    "subset111 = np.array(df[[\"X\",\"Y\",\"Z\"]])\n",
    "visualize_las(classified_points=subset1, df= df[[\"X\",\"Y\",\"Z\"]])"
   ]
  },
  {
   "cell_type": "code",
   "execution_count": 211,
   "metadata": {},
   "outputs": [],
   "source": [
    "df_2[\"X_new\"] = (df_2.X - 0.92*df.X.mean())\n",
    "df_2[\"Y_new\"] = (df_2.Y - 0.92*df.Y.mean())\n",
    "df_2[\"Z_new\"] = (df_2.Z + 0.15*df.Z.mean())"
   ]
  },
  {
   "cell_type": "code",
   "execution_count": 51,
   "metadata": {},
   "outputs": [],
   "source": [
    "df_2[\"X_new\"] = (df_2.X + 0*(df.X.max()-df.X.min()))\n",
    "df_2[\"Y_new\"] = (df_2.Y + 3.25*(df.Y.max()-df.Y.min()))\n",
    "df_2[\"Z_new\"] = (df_2.Z + 0.05*(df.Z.max()-df.Z.min()))"
   ]
  },
  {
   "cell_type": "code",
   "execution_count": 39,
   "metadata": {},
   "outputs": [
    {
     "name": "stdout",
     "output_type": "stream",
     "text": [
      "did not enter df\n"
     ]
    }
   ],
   "source": [
    "subset2 = np.array(df_2[[\"X_new\",\"Y_new\",\"Z_new\"]])\n",
    "subset21 = np.array(df_2[[\"x\",\"y\",\"z\"]])\n",
    "visualize_las(classified_points=subset2)"
   ]
  },
  {
   "cell_type": "code",
   "execution_count": 52,
   "metadata": {},
   "outputs": [],
   "source": [
    "df_3 = pd.concat([df,df_2])"
   ]
  },
  {
   "cell_type": "code",
   "execution_count": 53,
   "metadata": {},
   "outputs": [
    {
     "name": "stdout",
     "output_type": "stream",
     "text": [
      "did not enter df\n"
     ]
    }
   ],
   "source": [
    "subset3 = np.array(df_3[[\"X_new\",\"Y_new\",\"Z_new\"]])\n",
    "subset31 = np.array(df_3[[\"x\",\"y\",\"z\"]])\n",
    "visualize_las(classified_points=subset3)"
   ]
  },
  {
   "cell_type": "code",
   "execution_count": 35,
   "metadata": {},
   "outputs": [],
   "source": [
    "#input numpy array to visualize using open3d\n",
    "def visualize_las(classified_points,df= pd.DataFrame()):\n",
    "        \n",
    "    dataset = classified_points\n",
    "    geom = o3d.geometry.PointCloud()\n",
    "    geom.points = o3d.utility.Vector3dVector(dataset)\n",
    "    #geom.colors = o3d.utility.Vector3dVector(x)\n",
    "    #print(df)\n",
    "\n",
    "    if df.empty is False:\n",
    "        print(\"entered df\")\n",
    "        #coord = o3d.geometry.TriangleMesh().create_coordinate_frame(size=df.X[0], origin=[df.X.mean(), df.Y.mean(), df.Z.mean()])\n",
    "\n",
    "        ## Add coordinate frames for the system. \n",
    "        # One at the origin of the dataset\n",
    "        # One at the centralized mean (centroid) of the entire point cloud.\n",
    "        size=100000\n",
    "        coord_origin = o3d.geometry.TriangleMesh().create_coordinate_frame(size=size, origin=[0,0,0])\n",
    "        coord = o3d.geometry.TriangleMesh().create_coordinate_frame(size=size, origin=[df.X.mean(),df.Y.mean(),df.Z.mean()])\n",
    "        #coord = o3d.geometry.TriangleMesh().create_coordinate_frame(size=10, origin=[0,0,0])\n",
    "        o3d.visualization.draw_geometries([coord,coord_origin,geom])\n",
    "        #o3d.visualization.draw_geometries([geom])\n",
    "\n",
    "    else:\n",
    "        o3d.visualization.draw_geometries([geom])\n",
    "        print(\"did not enter coordinate frame\")"
   ]
  },
  {
   "cell_type": "code",
   "execution_count": null,
   "metadata": {},
   "outputs": [],
   "source": []
  }
 ],
 "metadata": {
  "kernelspec": {
   "display_name": "py38lidar",
   "language": "python",
   "name": "python3"
  },
  "language_info": {
   "codemirror_mode": {
    "name": "ipython",
    "version": 3
   },
   "file_extension": ".py",
   "mimetype": "text/x-python",
   "name": "python",
   "nbconvert_exporter": "python",
   "pygments_lexer": "ipython3",
   "version": "3.8.16"
  },
  "orig_nbformat": 4,
  "vscode": {
   "interpreter": {
    "hash": "a54151f323acc967be8fb68143945cc7bc10aeedb5b402dbd6b8360bccb746dd"
   }
  }
 },
 "nbformat": 4,
 "nbformat_minor": 2
}
